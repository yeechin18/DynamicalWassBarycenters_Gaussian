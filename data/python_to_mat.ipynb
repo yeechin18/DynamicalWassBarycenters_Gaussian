{
 "cells": [
  {
   "cell_type": "markdown",
   "metadata": {},
   "source": [
    "\n",
    "https://docs.scipy.org/doc/scipy/reference/generated/scipy.io.savemat.html\n",
    "\n",
    "Converts a list to the correct matlab format"
   ]
  },
  {
   "cell_type": "code",
   "execution_count": 2,
   "metadata": {},
   "outputs": [],
   "source": [
    "import pickle\n",
    "import scipy.io as scio\n"
   ]
  },
  {
   "cell_type": "code",
   "execution_count": 3,
   "metadata": {},
   "outputs": [],
   "source": [
    "with open(\"concatenated_fft_tests.txt\", \"rb\") as fp:   # Unpickling\n",
    "    ts = pickle.load(fp)"
   ]
  },
  {
   "cell_type": "code",
   "execution_count": 3,
   "metadata": {},
   "outputs": [],
   "source": [
    "tsdic = {\"Y\": ts}"
   ]
  },
  {
   "cell_type": "code",
   "execution_count": 5,
   "metadata": {},
   "outputs": [
    {
     "data": {
      "text/plain": [
       "{'Y': array([-10.85477532+0.j, -11.33356216+0.j, -11.22313783+0.j, ...,\n",
       "        -11.87879163+0.j, -11.93418422+0.j, -11.91712964+0.j])}"
      ]
     },
     "execution_count": 5,
     "metadata": {},
     "output_type": "execute_result"
    }
   ],
   "source": [
    "tsdic"
   ]
  },
  {
   "cell_type": "code",
   "execution_count": 6,
   "metadata": {},
   "outputs": [],
   "source": [
    "scio.savemat(\"bookshelf_concatenated_fft_tests.mat\", tsdic, oned_as=\"column\")"
   ]
  },
  {
   "cell_type": "code",
   "execution_count": 8,
   "metadata": {},
   "outputs": [],
   "source": [
    "#1, 3-7, 9\n",
    "ts_short = list(ts[:800]) + list(ts[1600:3200]) + list(ts[6400:])\n",
    "#healthy damaged healthy damaged. each test is len 800"
   ]
  },
  {
   "cell_type": "code",
   "execution_count": 9,
   "metadata": {},
   "outputs": [
    {
     "data": {
      "text/plain": [
       "3200"
      ]
     },
     "execution_count": 9,
     "metadata": {},
     "output_type": "execute_result"
    }
   ],
   "source": [
    "len(ts_short)"
   ]
  },
  {
   "cell_type": "code",
   "execution_count": 10,
   "metadata": {},
   "outputs": [],
   "source": [
    "tsshortdic = {\"Y\": ts_short}"
   ]
  },
  {
   "cell_type": "code",
   "execution_count": 11,
   "metadata": {},
   "outputs": [],
   "source": [
    "scio.savemat(\"bookshelf_concatenated_fft_tests_short.mat\", tsshortdic, oned_as=\"column\")"
   ]
  },
  {
   "cell_type": "code",
   "execution_count": null,
   "metadata": {},
   "outputs": [],
   "source": []
  }
 ],
 "metadata": {
  "interpreter": {
   "hash": "0fc5bee90fde8e98257ffd2904ca092554cc6b55bd553317ec6abd6e25e8a74b"
  },
  "kernelspec": {
   "display_name": "Python 3.8.5 64-bit ('dynamical-wasserstein-barycentre': conda)",
   "language": "python",
   "name": "python3"
  },
  "language_info": {
   "codemirror_mode": {
    "name": "ipython",
    "version": 3
   },
   "file_extension": ".py",
   "mimetype": "text/x-python",
   "name": "python",
   "nbconvert_exporter": "python",
   "pygments_lexer": "ipython3",
   "version": "3.8.5"
  },
  "orig_nbformat": 4
 },
 "nbformat": 4,
 "nbformat_minor": 2
}
